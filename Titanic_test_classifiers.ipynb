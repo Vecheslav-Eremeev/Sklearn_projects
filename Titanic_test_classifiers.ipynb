{
  "nbformat": 4,
  "nbformat_minor": 0,
  "metadata": {
    "colab": {
      "name": "Titanic test classifiers",
      "provenance": [],
      "collapsed_sections": [],
      "authorship_tag": "ABX9TyMODJmn4b/77rriG5VbX47/",
      "include_colab_link": true
    },
    "kernelspec": {
      "name": "python3",
      "display_name": "Python 3"
    },
    "language_info": {
      "name": "python"
    }
  },
  "cells": [
    {
      "cell_type": "markdown",
      "metadata": {
        "id": "view-in-github",
        "colab_type": "text"
      },
      "source": [
        "<a href=\"https://colab.research.google.com/github/Vecheslav-Eremeev/sklearn_projects/blob/main/Titanic_test_classifiers.ipynb\" target=\"_parent\"><img src=\"https://colab.research.google.com/assets/colab-badge.svg\" alt=\"Open In Colab\"/></a>"
      ]
    },
    {
      "cell_type": "markdown",
      "source": [
        "Imports\n"
      ],
      "metadata": {
        "id": "kswDx6FoyJU1"
      }
    },
    {
      "cell_type": "code",
      "execution_count": null,
      "metadata": {
        "id": "omXK3B3ex0Vk"
      },
      "outputs": [],
      "source": [
        "import warnings\n",
        "warnings.filterwarnings('ignore')"
      ]
    },
    {
      "cell_type": "code",
      "source": [
        "import matplotlib.pyplot as plt\n",
        "import seaborn as sns\n",
        "import pandas as pd\n",
        "\n",
        "from sklearn.linear_model import LogisticRegression\n",
        "from sklearn.discriminant_analysis import LinearDiscriminantAnalysis\n",
        "from sklearn.neighbors import KNeighborsClassifier\n",
        "from sklearn.tree import DecisionTreeClassifier\n",
        "from sklearn.naive_bayes import GaussianNB\n",
        "from sklearn.svm import LinearSVC, SVC\n",
        "from sklearn.neural_network import MLPClassifier\n",
        "from sklearn.ensemble import RandomForestClassifier, BaggingClassifier, AdaBoostClassifier\n",
        "from sklearn.ensemble import ExtraTreesClassifier, GradientBoostingClassifier, HistGradientBoostingClassifier\n",
        "\n",
        "from xgboost import XGBClassifier\n",
        "from lightgbm import LGBMClassifier\n",
        "\n",
        "from sklearn.model_selection import train_test_split\n",
        "from sklearn.model_selection import KFold\n",
        "from sklearn.model_selection import cross_val_score\n",
        "from sklearn.pipeline import Pipeline\n",
        "from sklearn.preprocessing import StandardScaler\n",
        "from sklearn.preprocessing import MinMaxScaler\n",
        "from sklearn.preprocessing import Normalizer"
      ],
      "metadata": {
        "id": "7FXcqRKByVvO"
      },
      "execution_count": null,
      "outputs": []
    },
    {
      "cell_type": "markdown",
      "source": [
        "Load dataset 'Titanic'"
      ],
      "metadata": {
        "id": "oytICKDa0gyU"
      }
    },
    {
      "cell_type": "code",
      "source": [
        "data = sns.load_dataset('titanic')"
      ],
      "metadata": {
        "id": "mJf59Ne8zn0s"
      },
      "execution_count": null,
      "outputs": []
    },
    {
      "cell_type": "code",
      "source": [
        "data.keys()"
      ],
      "metadata": {
        "colab": {
          "base_uri": "https://localhost:8080/"
        },
        "id": "eDip2dhf0ra8",
        "outputId": "060d09c4-6670-4e50-b72e-94655b20d201"
      },
      "execution_count": null,
      "outputs": [
        {
          "output_type": "execute_result",
          "data": {
            "text/plain": [
              "Index(['survived', 'pclass', 'sex', 'age', 'sibsp', 'parch', 'fare',\n",
              "       'embarked', 'class', 'who', 'adult_male', 'deck', 'embark_town',\n",
              "       'alive', 'alone'],\n",
              "      dtype='object')"
            ]
          },
          "metadata": {},
          "execution_count": 153
        }
      ]
    },
    {
      "cell_type": "code",
      "source": [
        "data.head()"
      ],
      "metadata": {
        "colab": {
          "base_uri": "https://localhost:8080/",
          "height": 206
        },
        "id": "_S7XhFIw0tDU",
        "outputId": "f0cdda27-8fc2-4a6f-a9f1-ee5a564844c4"
      },
      "execution_count": null,
      "outputs": [
        {
          "output_type": "execute_result",
          "data": {
            "text/plain": [
              "   survived  pclass     sex   age  sibsp  parch     fare embarked  class  \\\n",
              "0         0       3    male  22.0      1      0   7.2500        S  Third   \n",
              "1         1       1  female  38.0      1      0  71.2833        C  First   \n",
              "2         1       3  female  26.0      0      0   7.9250        S  Third   \n",
              "3         1       1  female  35.0      1      0  53.1000        S  First   \n",
              "4         0       3    male  35.0      0      0   8.0500        S  Third   \n",
              "\n",
              "     who  adult_male deck  embark_town alive  alone  \n",
              "0    man        True  NaN  Southampton    no  False  \n",
              "1  woman       False    C    Cherbourg   yes  False  \n",
              "2  woman       False  NaN  Southampton   yes   True  \n",
              "3  woman       False    C  Southampton   yes  False  \n",
              "4    man        True  NaN  Southampton    no   True  "
            ],
            "text/html": [
              "\n",
              "  <div id=\"df-ac379b33-f57c-42f2-b728-3f35151dc9ee\">\n",
              "    <div class=\"colab-df-container\">\n",
              "      <div>\n",
              "<style scoped>\n",
              "    .dataframe tbody tr th:only-of-type {\n",
              "        vertical-align: middle;\n",
              "    }\n",
              "\n",
              "    .dataframe tbody tr th {\n",
              "        vertical-align: top;\n",
              "    }\n",
              "\n",
              "    .dataframe thead th {\n",
              "        text-align: right;\n",
              "    }\n",
              "</style>\n",
              "<table border=\"1\" class=\"dataframe\">\n",
              "  <thead>\n",
              "    <tr style=\"text-align: right;\">\n",
              "      <th></th>\n",
              "      <th>survived</th>\n",
              "      <th>pclass</th>\n",
              "      <th>sex</th>\n",
              "      <th>age</th>\n",
              "      <th>sibsp</th>\n",
              "      <th>parch</th>\n",
              "      <th>fare</th>\n",
              "      <th>embarked</th>\n",
              "      <th>class</th>\n",
              "      <th>who</th>\n",
              "      <th>adult_male</th>\n",
              "      <th>deck</th>\n",
              "      <th>embark_town</th>\n",
              "      <th>alive</th>\n",
              "      <th>alone</th>\n",
              "    </tr>\n",
              "  </thead>\n",
              "  <tbody>\n",
              "    <tr>\n",
              "      <th>0</th>\n",
              "      <td>0</td>\n",
              "      <td>3</td>\n",
              "      <td>male</td>\n",
              "      <td>22.0</td>\n",
              "      <td>1</td>\n",
              "      <td>0</td>\n",
              "      <td>7.2500</td>\n",
              "      <td>S</td>\n",
              "      <td>Third</td>\n",
              "      <td>man</td>\n",
              "      <td>True</td>\n",
              "      <td>NaN</td>\n",
              "      <td>Southampton</td>\n",
              "      <td>no</td>\n",
              "      <td>False</td>\n",
              "    </tr>\n",
              "    <tr>\n",
              "      <th>1</th>\n",
              "      <td>1</td>\n",
              "      <td>1</td>\n",
              "      <td>female</td>\n",
              "      <td>38.0</td>\n",
              "      <td>1</td>\n",
              "      <td>0</td>\n",
              "      <td>71.2833</td>\n",
              "      <td>C</td>\n",
              "      <td>First</td>\n",
              "      <td>woman</td>\n",
              "      <td>False</td>\n",
              "      <td>C</td>\n",
              "      <td>Cherbourg</td>\n",
              "      <td>yes</td>\n",
              "      <td>False</td>\n",
              "    </tr>\n",
              "    <tr>\n",
              "      <th>2</th>\n",
              "      <td>1</td>\n",
              "      <td>3</td>\n",
              "      <td>female</td>\n",
              "      <td>26.0</td>\n",
              "      <td>0</td>\n",
              "      <td>0</td>\n",
              "      <td>7.9250</td>\n",
              "      <td>S</td>\n",
              "      <td>Third</td>\n",
              "      <td>woman</td>\n",
              "      <td>False</td>\n",
              "      <td>NaN</td>\n",
              "      <td>Southampton</td>\n",
              "      <td>yes</td>\n",
              "      <td>True</td>\n",
              "    </tr>\n",
              "    <tr>\n",
              "      <th>3</th>\n",
              "      <td>1</td>\n",
              "      <td>1</td>\n",
              "      <td>female</td>\n",
              "      <td>35.0</td>\n",
              "      <td>1</td>\n",
              "      <td>0</td>\n",
              "      <td>53.1000</td>\n",
              "      <td>S</td>\n",
              "      <td>First</td>\n",
              "      <td>woman</td>\n",
              "      <td>False</td>\n",
              "      <td>C</td>\n",
              "      <td>Southampton</td>\n",
              "      <td>yes</td>\n",
              "      <td>False</td>\n",
              "    </tr>\n",
              "    <tr>\n",
              "      <th>4</th>\n",
              "      <td>0</td>\n",
              "      <td>3</td>\n",
              "      <td>male</td>\n",
              "      <td>35.0</td>\n",
              "      <td>0</td>\n",
              "      <td>0</td>\n",
              "      <td>8.0500</td>\n",
              "      <td>S</td>\n",
              "      <td>Third</td>\n",
              "      <td>man</td>\n",
              "      <td>True</td>\n",
              "      <td>NaN</td>\n",
              "      <td>Southampton</td>\n",
              "      <td>no</td>\n",
              "      <td>True</td>\n",
              "    </tr>\n",
              "  </tbody>\n",
              "</table>\n",
              "</div>\n",
              "      <button class=\"colab-df-convert\" onclick=\"convertToInteractive('df-ac379b33-f57c-42f2-b728-3f35151dc9ee')\"\n",
              "              title=\"Convert this dataframe to an interactive table.\"\n",
              "              style=\"display:none;\">\n",
              "        \n",
              "  <svg xmlns=\"http://www.w3.org/2000/svg\" height=\"24px\"viewBox=\"0 0 24 24\"\n",
              "       width=\"24px\">\n",
              "    <path d=\"M0 0h24v24H0V0z\" fill=\"none\"/>\n",
              "    <path d=\"M18.56 5.44l.94 2.06.94-2.06 2.06-.94-2.06-.94-.94-2.06-.94 2.06-2.06.94zm-11 1L8.5 8.5l.94-2.06 2.06-.94-2.06-.94L8.5 2.5l-.94 2.06-2.06.94zm10 10l.94 2.06.94-2.06 2.06-.94-2.06-.94-.94-2.06-.94 2.06-2.06.94z\"/><path d=\"M17.41 7.96l-1.37-1.37c-.4-.4-.92-.59-1.43-.59-.52 0-1.04.2-1.43.59L10.3 9.45l-7.72 7.72c-.78.78-.78 2.05 0 2.83L4 21.41c.39.39.9.59 1.41.59.51 0 1.02-.2 1.41-.59l7.78-7.78 2.81-2.81c.8-.78.8-2.07 0-2.86zM5.41 20L4 18.59l7.72-7.72 1.47 1.35L5.41 20z\"/>\n",
              "  </svg>\n",
              "      </button>\n",
              "      \n",
              "  <style>\n",
              "    .colab-df-container {\n",
              "      display:flex;\n",
              "      flex-wrap:wrap;\n",
              "      gap: 12px;\n",
              "    }\n",
              "\n",
              "    .colab-df-convert {\n",
              "      background-color: #E8F0FE;\n",
              "      border: none;\n",
              "      border-radius: 50%;\n",
              "      cursor: pointer;\n",
              "      display: none;\n",
              "      fill: #1967D2;\n",
              "      height: 32px;\n",
              "      padding: 0 0 0 0;\n",
              "      width: 32px;\n",
              "    }\n",
              "\n",
              "    .colab-df-convert:hover {\n",
              "      background-color: #E2EBFA;\n",
              "      box-shadow: 0px 1px 2px rgba(60, 64, 67, 0.3), 0px 1px 3px 1px rgba(60, 64, 67, 0.15);\n",
              "      fill: #174EA6;\n",
              "    }\n",
              "\n",
              "    [theme=dark] .colab-df-convert {\n",
              "      background-color: #3B4455;\n",
              "      fill: #D2E3FC;\n",
              "    }\n",
              "\n",
              "    [theme=dark] .colab-df-convert:hover {\n",
              "      background-color: #434B5C;\n",
              "      box-shadow: 0px 1px 3px 1px rgba(0, 0, 0, 0.15);\n",
              "      filter: drop-shadow(0px 1px 2px rgba(0, 0, 0, 0.3));\n",
              "      fill: #FFFFFF;\n",
              "    }\n",
              "  </style>\n",
              "\n",
              "      <script>\n",
              "        const buttonEl =\n",
              "          document.querySelector('#df-ac379b33-f57c-42f2-b728-3f35151dc9ee button.colab-df-convert');\n",
              "        buttonEl.style.display =\n",
              "          google.colab.kernel.accessAllowed ? 'block' : 'none';\n",
              "\n",
              "        async function convertToInteractive(key) {\n",
              "          const element = document.querySelector('#df-ac379b33-f57c-42f2-b728-3f35151dc9ee');\n",
              "          const dataTable =\n",
              "            await google.colab.kernel.invokeFunction('convertToInteractive',\n",
              "                                                     [key], {});\n",
              "          if (!dataTable) return;\n",
              "\n",
              "          const docLinkHtml = 'Like what you see? Visit the ' +\n",
              "            '<a target=\"_blank\" href=https://colab.research.google.com/notebooks/data_table.ipynb>data table notebook</a>'\n",
              "            + ' to learn more about interactive tables.';\n",
              "          element.innerHTML = '';\n",
              "          dataTable['output_type'] = 'display_data';\n",
              "          await google.colab.output.renderOutput(dataTable, element);\n",
              "          const docLink = document.createElement('div');\n",
              "          docLink.innerHTML = docLinkHtml;\n",
              "          element.appendChild(docLink);\n",
              "        }\n",
              "      </script>\n",
              "    </div>\n",
              "  </div>\n",
              "  "
            ]
          },
          "metadata": {},
          "execution_count": 154
        }
      ]
    },
    {
      "cell_type": "code",
      "source": [
        "data.shape"
      ],
      "metadata": {
        "colab": {
          "base_uri": "https://localhost:8080/"
        },
        "id": "NL3BHv7y0y8U",
        "outputId": "a0b6028c-3d2f-42d9-e669-a00e539506fc"
      },
      "execution_count": null,
      "outputs": [
        {
          "output_type": "execute_result",
          "data": {
            "text/plain": [
              "(891, 15)"
            ]
          },
          "metadata": {},
          "execution_count": 155
        }
      ]
    },
    {
      "cell_type": "markdown",
      "source": [
        "Data preparation"
      ],
      "metadata": {
        "id": "UmifkXfG28nn"
      }
    },
    {
      "cell_type": "code",
      "source": [
        "drop_keys = 'survived class who adult_male deck embark_town alive'.split()"
      ],
      "metadata": {
        "id": "GbJKtMaN02wl"
      },
      "execution_count": null,
      "outputs": []
    },
    {
      "cell_type": "code",
      "source": [
        "X = data.drop(drop_keys, axis=1)\n",
        "y = data.survived"
      ],
      "metadata": {
        "id": "fcuxnGKI15a1"
      },
      "execution_count": null,
      "outputs": []
    },
    {
      "cell_type": "code",
      "source": [
        "X.head()"
      ],
      "metadata": {
        "colab": {
          "base_uri": "https://localhost:8080/",
          "height": 206
        },
        "id": "Kb3G3m2W2GJ9",
        "outputId": "fd3d8beb-c774-437b-9299-76f94c8e3507"
      },
      "execution_count": null,
      "outputs": [
        {
          "output_type": "execute_result",
          "data": {
            "text/plain": [
              "   pclass     sex   age  sibsp  parch     fare embarked  alone\n",
              "0       3    male  22.0      1      0   7.2500        S  False\n",
              "1       1  female  38.0      1      0  71.2833        C  False\n",
              "2       3  female  26.0      0      0   7.9250        S   True\n",
              "3       1  female  35.0      1      0  53.1000        S  False\n",
              "4       3    male  35.0      0      0   8.0500        S   True"
            ],
            "text/html": [
              "\n",
              "  <div id=\"df-d386e069-2cd7-48a4-a475-0b14f7130066\">\n",
              "    <div class=\"colab-df-container\">\n",
              "      <div>\n",
              "<style scoped>\n",
              "    .dataframe tbody tr th:only-of-type {\n",
              "        vertical-align: middle;\n",
              "    }\n",
              "\n",
              "    .dataframe tbody tr th {\n",
              "        vertical-align: top;\n",
              "    }\n",
              "\n",
              "    .dataframe thead th {\n",
              "        text-align: right;\n",
              "    }\n",
              "</style>\n",
              "<table border=\"1\" class=\"dataframe\">\n",
              "  <thead>\n",
              "    <tr style=\"text-align: right;\">\n",
              "      <th></th>\n",
              "      <th>pclass</th>\n",
              "      <th>sex</th>\n",
              "      <th>age</th>\n",
              "      <th>sibsp</th>\n",
              "      <th>parch</th>\n",
              "      <th>fare</th>\n",
              "      <th>embarked</th>\n",
              "      <th>alone</th>\n",
              "    </tr>\n",
              "  </thead>\n",
              "  <tbody>\n",
              "    <tr>\n",
              "      <th>0</th>\n",
              "      <td>3</td>\n",
              "      <td>male</td>\n",
              "      <td>22.0</td>\n",
              "      <td>1</td>\n",
              "      <td>0</td>\n",
              "      <td>7.2500</td>\n",
              "      <td>S</td>\n",
              "      <td>False</td>\n",
              "    </tr>\n",
              "    <tr>\n",
              "      <th>1</th>\n",
              "      <td>1</td>\n",
              "      <td>female</td>\n",
              "      <td>38.0</td>\n",
              "      <td>1</td>\n",
              "      <td>0</td>\n",
              "      <td>71.2833</td>\n",
              "      <td>C</td>\n",
              "      <td>False</td>\n",
              "    </tr>\n",
              "    <tr>\n",
              "      <th>2</th>\n",
              "      <td>3</td>\n",
              "      <td>female</td>\n",
              "      <td>26.0</td>\n",
              "      <td>0</td>\n",
              "      <td>0</td>\n",
              "      <td>7.9250</td>\n",
              "      <td>S</td>\n",
              "      <td>True</td>\n",
              "    </tr>\n",
              "    <tr>\n",
              "      <th>3</th>\n",
              "      <td>1</td>\n",
              "      <td>female</td>\n",
              "      <td>35.0</td>\n",
              "      <td>1</td>\n",
              "      <td>0</td>\n",
              "      <td>53.1000</td>\n",
              "      <td>S</td>\n",
              "      <td>False</td>\n",
              "    </tr>\n",
              "    <tr>\n",
              "      <th>4</th>\n",
              "      <td>3</td>\n",
              "      <td>male</td>\n",
              "      <td>35.0</td>\n",
              "      <td>0</td>\n",
              "      <td>0</td>\n",
              "      <td>8.0500</td>\n",
              "      <td>S</td>\n",
              "      <td>True</td>\n",
              "    </tr>\n",
              "  </tbody>\n",
              "</table>\n",
              "</div>\n",
              "      <button class=\"colab-df-convert\" onclick=\"convertToInteractive('df-d386e069-2cd7-48a4-a475-0b14f7130066')\"\n",
              "              title=\"Convert this dataframe to an interactive table.\"\n",
              "              style=\"display:none;\">\n",
              "        \n",
              "  <svg xmlns=\"http://www.w3.org/2000/svg\" height=\"24px\"viewBox=\"0 0 24 24\"\n",
              "       width=\"24px\">\n",
              "    <path d=\"M0 0h24v24H0V0z\" fill=\"none\"/>\n",
              "    <path d=\"M18.56 5.44l.94 2.06.94-2.06 2.06-.94-2.06-.94-.94-2.06-.94 2.06-2.06.94zm-11 1L8.5 8.5l.94-2.06 2.06-.94-2.06-.94L8.5 2.5l-.94 2.06-2.06.94zm10 10l.94 2.06.94-2.06 2.06-.94-2.06-.94-.94-2.06-.94 2.06-2.06.94z\"/><path d=\"M17.41 7.96l-1.37-1.37c-.4-.4-.92-.59-1.43-.59-.52 0-1.04.2-1.43.59L10.3 9.45l-7.72 7.72c-.78.78-.78 2.05 0 2.83L4 21.41c.39.39.9.59 1.41.59.51 0 1.02-.2 1.41-.59l7.78-7.78 2.81-2.81c.8-.78.8-2.07 0-2.86zM5.41 20L4 18.59l7.72-7.72 1.47 1.35L5.41 20z\"/>\n",
              "  </svg>\n",
              "      </button>\n",
              "      \n",
              "  <style>\n",
              "    .colab-df-container {\n",
              "      display:flex;\n",
              "      flex-wrap:wrap;\n",
              "      gap: 12px;\n",
              "    }\n",
              "\n",
              "    .colab-df-convert {\n",
              "      background-color: #E8F0FE;\n",
              "      border: none;\n",
              "      border-radius: 50%;\n",
              "      cursor: pointer;\n",
              "      display: none;\n",
              "      fill: #1967D2;\n",
              "      height: 32px;\n",
              "      padding: 0 0 0 0;\n",
              "      width: 32px;\n",
              "    }\n",
              "\n",
              "    .colab-df-convert:hover {\n",
              "      background-color: #E2EBFA;\n",
              "      box-shadow: 0px 1px 2px rgba(60, 64, 67, 0.3), 0px 1px 3px 1px rgba(60, 64, 67, 0.15);\n",
              "      fill: #174EA6;\n",
              "    }\n",
              "\n",
              "    [theme=dark] .colab-df-convert {\n",
              "      background-color: #3B4455;\n",
              "      fill: #D2E3FC;\n",
              "    }\n",
              "\n",
              "    [theme=dark] .colab-df-convert:hover {\n",
              "      background-color: #434B5C;\n",
              "      box-shadow: 0px 1px 3px 1px rgba(0, 0, 0, 0.15);\n",
              "      filter: drop-shadow(0px 1px 2px rgba(0, 0, 0, 0.3));\n",
              "      fill: #FFFFFF;\n",
              "    }\n",
              "  </style>\n",
              "\n",
              "      <script>\n",
              "        const buttonEl =\n",
              "          document.querySelector('#df-d386e069-2cd7-48a4-a475-0b14f7130066 button.colab-df-convert');\n",
              "        buttonEl.style.display =\n",
              "          google.colab.kernel.accessAllowed ? 'block' : 'none';\n",
              "\n",
              "        async function convertToInteractive(key) {\n",
              "          const element = document.querySelector('#df-d386e069-2cd7-48a4-a475-0b14f7130066');\n",
              "          const dataTable =\n",
              "            await google.colab.kernel.invokeFunction('convertToInteractive',\n",
              "                                                     [key], {});\n",
              "          if (!dataTable) return;\n",
              "\n",
              "          const docLinkHtml = 'Like what you see? Visit the ' +\n",
              "            '<a target=\"_blank\" href=https://colab.research.google.com/notebooks/data_table.ipynb>data table notebook</a>'\n",
              "            + ' to learn more about interactive tables.';\n",
              "          element.innerHTML = '';\n",
              "          dataTable['output_type'] = 'display_data';\n",
              "          await google.colab.output.renderOutput(dataTable, element);\n",
              "          const docLink = document.createElement('div');\n",
              "          docLink.innerHTML = docLinkHtml;\n",
              "          element.appendChild(docLink);\n",
              "        }\n",
              "      </script>\n",
              "    </div>\n",
              "  </div>\n",
              "  "
            ]
          },
          "metadata": {},
          "execution_count": 158
        }
      ]
    },
    {
      "cell_type": "code",
      "source": [
        "X.isnull().sum()"
      ],
      "metadata": {
        "colab": {
          "base_uri": "https://localhost:8080/"
        },
        "id": "ERfuY_1z2IPE",
        "outputId": "acd38331-4bad-49f5-8e8e-e473b725bf2b"
      },
      "execution_count": null,
      "outputs": [
        {
          "output_type": "execute_result",
          "data": {
            "text/plain": [
              "pclass        0\n",
              "sex           0\n",
              "age         177\n",
              "sibsp         0\n",
              "parch         0\n",
              "fare          0\n",
              "embarked      2\n",
              "alone         0\n",
              "dtype: int64"
            ]
          },
          "metadata": {},
          "execution_count": 159
        }
      ]
    },
    {
      "cell_type": "code",
      "source": [
        "X.embarked = X.embarked.fillna(X.embarked.mode()[0])"
      ],
      "metadata": {
        "id": "gTV4twIG2eN0"
      },
      "execution_count": null,
      "outputs": []
    },
    {
      "cell_type": "code",
      "source": [
        "X.age = X.age.fillna(X.age.mean())"
      ],
      "metadata": {
        "id": "YFT8UNc72sSW"
      },
      "execution_count": null,
      "outputs": []
    },
    {
      "cell_type": "code",
      "source": [
        "X.alone = X.alone.astype(int)"
      ],
      "metadata": {
        "id": "i1pb4tmW3Hsd"
      },
      "execution_count": null,
      "outputs": []
    },
    {
      "cell_type": "code",
      "source": [
        "X['family'] = X.sibsp + X.parch"
      ],
      "metadata": {
        "id": "FpSQJKIQ3W5N"
      },
      "execution_count": null,
      "outputs": []
    },
    {
      "cell_type": "code",
      "source": [
        "X = X.drop(['sibsp', 'parch'], axis=1)"
      ],
      "metadata": {
        "id": "5fqb2xks3fHx"
      },
      "execution_count": null,
      "outputs": []
    },
    {
      "cell_type": "code",
      "source": [
        "X.age = pd.cut(X.age, bins=8, labels=False)"
      ],
      "metadata": {
        "id": "F7cZMARu3nZh"
      },
      "execution_count": null,
      "outputs": []
    },
    {
      "cell_type": "code",
      "source": [
        "X.fare = pd.qcut(X.fare, 4, labels=False)"
      ],
      "metadata": {
        "id": "4GMfeVpR4GM9"
      },
      "execution_count": null,
      "outputs": []
    },
    {
      "cell_type": "code",
      "source": [
        "X = pd.get_dummies(X, drop_first=True)"
      ],
      "metadata": {
        "id": "OxMI53AE4ccF"
      },
      "execution_count": null,
      "outputs": []
    },
    {
      "cell_type": "code",
      "source": [
        "X.sample(5)"
      ],
      "metadata": {
        "colab": {
          "base_uri": "https://localhost:8080/",
          "height": 206
        },
        "id": "geXhYlSE5Szy",
        "outputId": "2ebd617e-b915-4014-a4a4-e6ee49585ea3"
      },
      "execution_count": null,
      "outputs": [
        {
          "output_type": "execute_result",
          "data": {
            "text/plain": [
              "     pclass  age  fare  alone  family  sex_male  embarked_Q  embarked_S\n",
              "448       3    0     2      0       3         0           0           0\n",
              "561       3    3     0      1       0         1           0           1\n",
              "181       2    2     2      1       0         1           0           0\n",
              "777       3    0     1      1       0         0           0           1\n",
              "531       3    2     0      1       0         1           0           0"
            ],
            "text/html": [
              "\n",
              "  <div id=\"df-9a682edf-1186-4539-8e56-a05998489dae\">\n",
              "    <div class=\"colab-df-container\">\n",
              "      <div>\n",
              "<style scoped>\n",
              "    .dataframe tbody tr th:only-of-type {\n",
              "        vertical-align: middle;\n",
              "    }\n",
              "\n",
              "    .dataframe tbody tr th {\n",
              "        vertical-align: top;\n",
              "    }\n",
              "\n",
              "    .dataframe thead th {\n",
              "        text-align: right;\n",
              "    }\n",
              "</style>\n",
              "<table border=\"1\" class=\"dataframe\">\n",
              "  <thead>\n",
              "    <tr style=\"text-align: right;\">\n",
              "      <th></th>\n",
              "      <th>pclass</th>\n",
              "      <th>age</th>\n",
              "      <th>fare</th>\n",
              "      <th>alone</th>\n",
              "      <th>family</th>\n",
              "      <th>sex_male</th>\n",
              "      <th>embarked_Q</th>\n",
              "      <th>embarked_S</th>\n",
              "    </tr>\n",
              "  </thead>\n",
              "  <tbody>\n",
              "    <tr>\n",
              "      <th>448</th>\n",
              "      <td>3</td>\n",
              "      <td>0</td>\n",
              "      <td>2</td>\n",
              "      <td>0</td>\n",
              "      <td>3</td>\n",
              "      <td>0</td>\n",
              "      <td>0</td>\n",
              "      <td>0</td>\n",
              "    </tr>\n",
              "    <tr>\n",
              "      <th>561</th>\n",
              "      <td>3</td>\n",
              "      <td>3</td>\n",
              "      <td>0</td>\n",
              "      <td>1</td>\n",
              "      <td>0</td>\n",
              "      <td>1</td>\n",
              "      <td>0</td>\n",
              "      <td>1</td>\n",
              "    </tr>\n",
              "    <tr>\n",
              "      <th>181</th>\n",
              "      <td>2</td>\n",
              "      <td>2</td>\n",
              "      <td>2</td>\n",
              "      <td>1</td>\n",
              "      <td>0</td>\n",
              "      <td>1</td>\n",
              "      <td>0</td>\n",
              "      <td>0</td>\n",
              "    </tr>\n",
              "    <tr>\n",
              "      <th>777</th>\n",
              "      <td>3</td>\n",
              "      <td>0</td>\n",
              "      <td>1</td>\n",
              "      <td>1</td>\n",
              "      <td>0</td>\n",
              "      <td>0</td>\n",
              "      <td>0</td>\n",
              "      <td>1</td>\n",
              "    </tr>\n",
              "    <tr>\n",
              "      <th>531</th>\n",
              "      <td>3</td>\n",
              "      <td>2</td>\n",
              "      <td>0</td>\n",
              "      <td>1</td>\n",
              "      <td>0</td>\n",
              "      <td>1</td>\n",
              "      <td>0</td>\n",
              "      <td>0</td>\n",
              "    </tr>\n",
              "  </tbody>\n",
              "</table>\n",
              "</div>\n",
              "      <button class=\"colab-df-convert\" onclick=\"convertToInteractive('df-9a682edf-1186-4539-8e56-a05998489dae')\"\n",
              "              title=\"Convert this dataframe to an interactive table.\"\n",
              "              style=\"display:none;\">\n",
              "        \n",
              "  <svg xmlns=\"http://www.w3.org/2000/svg\" height=\"24px\"viewBox=\"0 0 24 24\"\n",
              "       width=\"24px\">\n",
              "    <path d=\"M0 0h24v24H0V0z\" fill=\"none\"/>\n",
              "    <path d=\"M18.56 5.44l.94 2.06.94-2.06 2.06-.94-2.06-.94-.94-2.06-.94 2.06-2.06.94zm-11 1L8.5 8.5l.94-2.06 2.06-.94-2.06-.94L8.5 2.5l-.94 2.06-2.06.94zm10 10l.94 2.06.94-2.06 2.06-.94-2.06-.94-.94-2.06-.94 2.06-2.06.94z\"/><path d=\"M17.41 7.96l-1.37-1.37c-.4-.4-.92-.59-1.43-.59-.52 0-1.04.2-1.43.59L10.3 9.45l-7.72 7.72c-.78.78-.78 2.05 0 2.83L4 21.41c.39.39.9.59 1.41.59.51 0 1.02-.2 1.41-.59l7.78-7.78 2.81-2.81c.8-.78.8-2.07 0-2.86zM5.41 20L4 18.59l7.72-7.72 1.47 1.35L5.41 20z\"/>\n",
              "  </svg>\n",
              "      </button>\n",
              "      \n",
              "  <style>\n",
              "    .colab-df-container {\n",
              "      display:flex;\n",
              "      flex-wrap:wrap;\n",
              "      gap: 12px;\n",
              "    }\n",
              "\n",
              "    .colab-df-convert {\n",
              "      background-color: #E8F0FE;\n",
              "      border: none;\n",
              "      border-radius: 50%;\n",
              "      cursor: pointer;\n",
              "      display: none;\n",
              "      fill: #1967D2;\n",
              "      height: 32px;\n",
              "      padding: 0 0 0 0;\n",
              "      width: 32px;\n",
              "    }\n",
              "\n",
              "    .colab-df-convert:hover {\n",
              "      background-color: #E2EBFA;\n",
              "      box-shadow: 0px 1px 2px rgba(60, 64, 67, 0.3), 0px 1px 3px 1px rgba(60, 64, 67, 0.15);\n",
              "      fill: #174EA6;\n",
              "    }\n",
              "\n",
              "    [theme=dark] .colab-df-convert {\n",
              "      background-color: #3B4455;\n",
              "      fill: #D2E3FC;\n",
              "    }\n",
              "\n",
              "    [theme=dark] .colab-df-convert:hover {\n",
              "      background-color: #434B5C;\n",
              "      box-shadow: 0px 1px 3px 1px rgba(0, 0, 0, 0.15);\n",
              "      filter: drop-shadow(0px 1px 2px rgba(0, 0, 0, 0.3));\n",
              "      fill: #FFFFFF;\n",
              "    }\n",
              "  </style>\n",
              "\n",
              "      <script>\n",
              "        const buttonEl =\n",
              "          document.querySelector('#df-9a682edf-1186-4539-8e56-a05998489dae button.colab-df-convert');\n",
              "        buttonEl.style.display =\n",
              "          google.colab.kernel.accessAllowed ? 'block' : 'none';\n",
              "\n",
              "        async function convertToInteractive(key) {\n",
              "          const element = document.querySelector('#df-9a682edf-1186-4539-8e56-a05998489dae');\n",
              "          const dataTable =\n",
              "            await google.colab.kernel.invokeFunction('convertToInteractive',\n",
              "                                                     [key], {});\n",
              "          if (!dataTable) return;\n",
              "\n",
              "          const docLinkHtml = 'Like what you see? Visit the ' +\n",
              "            '<a target=\"_blank\" href=https://colab.research.google.com/notebooks/data_table.ipynb>data table notebook</a>'\n",
              "            + ' to learn more about interactive tables.';\n",
              "          element.innerHTML = '';\n",
              "          dataTable['output_type'] = 'display_data';\n",
              "          await google.colab.output.renderOutput(dataTable, element);\n",
              "          const docLink = document.createElement('div');\n",
              "          docLink.innerHTML = docLinkHtml;\n",
              "          element.appendChild(docLink);\n",
              "        }\n",
              "      </script>\n",
              "    </div>\n",
              "  </div>\n",
              "  "
            ]
          },
          "metadata": {},
          "execution_count": 168
        }
      ]
    },
    {
      "cell_type": "code",
      "source": [
        "test_size = 0.2\n",
        "random_seed = 42"
      ],
      "metadata": {
        "id": "ATbGS6br46kk"
      },
      "execution_count": null,
      "outputs": []
    },
    {
      "cell_type": "code",
      "source": [
        "num_folds = 10\n",
        "n_estimators = 100\n",
        "scoring = 'accuracy'"
      ],
      "metadata": {
        "id": "z9xi5TEK5Q1Y"
      },
      "execution_count": null,
      "outputs": []
    },
    {
      "cell_type": "code",
      "source": [
        "X_train, X_test, y_train, y_test = train_test_split(X, y, test_size=test_size, random_state=random_seed)"
      ],
      "metadata": {
        "id": "l9ugypqa5jYU"
      },
      "execution_count": null,
      "outputs": []
    },
    {
      "cell_type": "markdown",
      "source": [
        "Test Models"
      ],
      "metadata": {
        "id": "-xww-OmO5xMU"
      }
    },
    {
      "cell_type": "code",
      "source": [
        "models = [\n",
        "          LogisticRegression(),\n",
        "          LinearDiscriminantAnalysis(),\n",
        "          KNeighborsClassifier(),\n",
        "          DecisionTreeClassifier(),\n",
        "          GaussianNB(),\n",
        "          LinearSVC(),\n",
        "          SVC(),\n",
        "          MLPClassifier(),\n",
        "          RandomForestClassifier(n_estimators=n_estimators),\n",
        "          BaggingClassifier(n_estimators=n_estimators),\n",
        "          AdaBoostClassifier(n_estimators=n_estimators),\n",
        "          ExtraTreesClassifier(n_estimators=n_estimators),\n",
        "          GradientBoostingClassifier(n_estimators=n_estimators),\n",
        "          HistGradientBoostingClassifier(),\n",
        "          XGBClassifier(silent=True),\n",
        "          LGBMClassifier(silent=True)\n",
        "]"
      ],
      "metadata": {
        "id": "NI-DXk6G6CMk"
      },
      "execution_count": null,
      "outputs": []
    },
    {
      "cell_type": "code",
      "source": [
        "pipelines = []"
      ],
      "metadata": {
        "id": "X-23GBF4GYNF"
      },
      "execution_count": null,
      "outputs": []
    },
    {
      "cell_type": "code",
      "source": [
        "for model in models:\n",
        "  name = model.__class__.__name__\n",
        "  pipelines.append((name, model))"
      ],
      "metadata": {
        "id": "DbyaluqOGgEU"
      },
      "execution_count": null,
      "outputs": []
    },
    {
      "cell_type": "code",
      "source": [
        "scores = []\n",
        "names = []\n",
        "results = []\n",
        "predictions = []\n",
        "msgs = []"
      ],
      "metadata": {
        "id": "ywHlz_ik7cF0"
      },
      "execution_count": null,
      "outputs": []
    },
    {
      "cell_type": "code",
      "source": [
        "def train_models(models):\n",
        "  for name, model in pipelines:\n",
        "    kfold = KFold(n_splits=num_folds, random_state=random_seed, shuffle=True)\n",
        "    cv_results = cross_val_score(model, X_train, y_train, cv=kfold)\n",
        "    names.append(name)\n",
        "    results.append(cv_results)\n",
        "    model.fit(X_train, y_train)\n",
        "    predict = model.predict(X_test)\n",
        "    predictions.append(predict)\n",
        "    score = model.score(X_test, y_test)\n",
        "    scores.append(score)\n",
        "    msg = \"%s: train = %.3f (%.3f) / test = %.3f\" % (name, cv_results.mean(),\n",
        "                                                     cv_results.std(), score)\n",
        "    msgs.append(msg)\n",
        "    print(msg)"
      ],
      "metadata": {
        "id": "2VEzamsaGHsk"
      },
      "execution_count": null,
      "outputs": []
    },
    {
      "cell_type": "code",
      "source": [
        "def show_results(title='Train Models'):\n",
        "  fig = plt.figure()\n",
        "  fig.suptitle(title)\n",
        "  ax = fig.add_subplot(111)\n",
        "  red_square = dict(markerfacecolor='r', marker='s')\n",
        "  plt.boxplot(results, flierprops=red_square)\n",
        "  ax.set_xticklabels(names, rotation=80)\n",
        "  plt.show()"
      ],
      "metadata": {
        "id": "3SXD7ZqoHLt1"
      },
      "execution_count": null,
      "outputs": []
    },
    {
      "cell_type": "code",
      "source": [
        "train_models(pipelines)"
      ],
      "metadata": {
        "colab": {
          "base_uri": "https://localhost:8080/"
        },
        "id": "FaHBFkgnH0al",
        "outputId": "3996a376-c31c-49fd-dcb7-55277d253dd3"
      },
      "execution_count": null,
      "outputs": [
        {
          "output_type": "stream",
          "name": "stdout",
          "text": [
            "LogisticRegression: train = 0.795 (0.039) / test = 0.799\n",
            "LinearDiscriminantAnalysis: train = 0.792 (0.043) / test = 0.788\n",
            "KNeighborsClassifier: train = 0.768 (0.061) / test = 0.793\n",
            "DecisionTreeClassifier: train = 0.798 (0.047) / test = 0.788\n",
            "GaussianNB: train = 0.761 (0.040) / test = 0.771\n",
            "LinearSVC: train = 0.794 (0.037) / test = 0.799\n",
            "SVC: train = 0.831 (0.055) / test = 0.816\n",
            "MLPClassifier: train = 0.823 (0.044) / test = 0.793\n",
            "RandomForestClassifier: train = 0.796 (0.049) / test = 0.810\n",
            "BaggingClassifier: train = 0.798 (0.054) / test = 0.804\n",
            "AdaBoostClassifier: train = 0.810 (0.047) / test = 0.782\n",
            "ExtraTreesClassifier: train = 0.795 (0.051) / test = 0.799\n",
            "GradientBoostingClassifier: train = 0.826 (0.043) / test = 0.810\n",
            "HistGradientBoostingClassifier: train = 0.813 (0.057) / test = 0.832\n",
            "XGBClassifier: train = 0.827 (0.041) / test = 0.821\n",
            "LGBMClassifier: train = 0.812 (0.056) / test = 0.832\n"
          ]
        }
      ]
    },
    {
      "cell_type": "code",
      "source": [
        "show_results('Сравнение результатов выполнения алгоритмов')"
      ],
      "metadata": {
        "colab": {
          "base_uri": "https://localhost:8080/",
          "height": 436
        },
        "id": "T6BNWSnyH_O1",
        "outputId": "6ef8a544-85a2-4e70-cd21-b2d3b311d9ec"
      },
      "execution_count": null,
      "outputs": [
        {
          "output_type": "display_data",
          "data": {
            "text/plain": [
              "<Figure size 432x288 with 1 Axes>"
            ],
            "image/png": "[encoded data removed]"
          },
          "metadata": {
            "needs_background": "light"
          }
        }
      ]
    },
    {
      "cell_type": "markdown",
      "source": [
        "StandardScaler"
      ],
      "metadata": {
        "id": "by5fiTNi_MnX"
      }
    },
    {
      "cell_type": "code",
      "source": [
        "pipelines = []"
      ],
      "metadata": {
        "id": "QkzXmufp-O8d"
      },
      "execution_count": null,
      "outputs": []
    },
    {
      "cell_type": "code",
      "source": [
        "for model in models:\n",
        "  name = 'SS ' + model.__class__.__name__\n",
        "  pipelines.append((name, Pipeline([('Scaler', StandardScaler()), \n",
        "                                    (model.__class__.__name__, model)])))"
      ],
      "metadata": {
        "id": "j8GKtWkw_cQl"
      },
      "execution_count": null,
      "outputs": []
    },
    {
      "cell_type": "code",
      "source": [
        "scores = []\n",
        "names = []\n",
        "results = []\n",
        "predictions = []\n",
        "msgs = []"
      ],
      "metadata": {
        "id": "GmDSnmyUAio1"
      },
      "execution_count": null,
      "outputs": []
    },
    {
      "cell_type": "code",
      "source": [
        "train_models(pipelines)"
      ],
      "metadata": {
        "colab": {
          "base_uri": "https://localhost:8080/"
        },
        "id": "bF1xs1ciIT3G",
        "outputId": "79e1cbdb-373e-4c50-d917-fbb590e1f288"
      },
      "execution_count": null,
      "outputs": [
        {
          "output_type": "stream",
          "name": "stdout",
          "text": [
            "SS LogisticRegression: train = 0.795 (0.039) / test = 0.799\n",
            "SS LinearDiscriminantAnalysis: train = 0.792 (0.043) / test = 0.788\n",
            "SS KNeighborsClassifier: train = 0.803 (0.059) / test = 0.765\n",
            "SS DecisionTreeClassifier: train = 0.798 (0.044) / test = 0.782\n",
            "SS GaussianNB: train = 0.761 (0.040) / test = 0.771\n",
            "SS LinearSVC: train = 0.796 (0.039) / test = 0.799\n",
            "SS SVC: train = 0.815 (0.043) / test = 0.804\n",
            "SS MLPClassifier: train = 0.824 (0.056) / test = 0.793\n",
            "SS RandomForestClassifier: train = 0.803 (0.052) / test = 0.810\n",
            "SS BaggingClassifier: train = 0.798 (0.052) / test = 0.827\n",
            "SS AdaBoostClassifier: train = 0.810 (0.047) / test = 0.782\n",
            "SS ExtraTreesClassifier: train = 0.802 (0.053) / test = 0.799\n",
            "SS GradientBoostingClassifier: train = 0.826 (0.043) / test = 0.810\n",
            "SS HistGradientBoostingClassifier: train = 0.813 (0.057) / test = 0.832\n",
            "SS XGBClassifier: train = 0.827 (0.041) / test = 0.821\n",
            "SS LGBMClassifier: train = 0.813 (0.057) / test = 0.832\n"
          ]
        }
      ]
    },
    {
      "cell_type": "code",
      "source": [
        "show_results('Сравнение результатов выполнения алгоритмов на стандарт. данных')"
      ],
      "metadata": {
        "colab": {
          "base_uri": "https://localhost:8080/",
          "height": 452
        },
        "id": "aLIDSZKYIeOc",
        "outputId": "402549e0-891b-4f19-c291-43d934a323d0"
      },
      "execution_count": null,
      "outputs": [
        {
          "output_type": "display_data",
          "data": {
            "text/plain": [
              "<Figure size 432x288 with 1 Axes>"
            ],
            "image/png": "[encoded data removed]"
          },
          "metadata": {
            "needs_background": "light"
          }
        }
      ]
    },
    {
      "cell_type": "markdown",
      "source": [
        "Normalizer"
      ],
      "metadata": {
        "id": "3JF4blfsDCM2"
      }
    },
    {
      "cell_type": "code",
      "source": [
        "pipelines = []"
      ],
      "metadata": {
        "id": "g4jSg8-XC1uV"
      },
      "execution_count": null,
      "outputs": []
    },
    {
      "cell_type": "code",
      "source": [
        "for model in models:\n",
        "  name = 'N ' + model.__class__.__name__\n",
        "  pipelines.append((name, Pipeline([('Normalizer', Normalizer()), \n",
        "                                    (model.__class__.__name__, model)])))"
      ],
      "metadata": {
        "id": "ziNSOqSeDLZM"
      },
      "execution_count": null,
      "outputs": []
    },
    {
      "cell_type": "code",
      "source": [
        "scores = []\n",
        "names = []\n",
        "results = []\n",
        "predictions = []\n",
        "msgs = []"
      ],
      "metadata": {
        "id": "OJ1dT2lCDZ0M"
      },
      "execution_count": null,
      "outputs": []
    },
    {
      "cell_type": "code",
      "source": [
        "train_models(pipelines)"
      ],
      "metadata": {
        "colab": {
          "base_uri": "https://localhost:8080/"
        },
        "id": "aEUckX7oIotP",
        "outputId": "41f234a7-c46a-409d-b771-758dcd460fa2"
      },
      "execution_count": null,
      "outputs": [
        {
          "output_type": "stream",
          "name": "stdout",
          "text": [
            "N LogisticRegression: train = 0.767 (0.041) / test = 0.743\n",
            "N LinearDiscriminantAnalysis: train = 0.779 (0.036) / test = 0.765\n",
            "N KNeighborsClassifier: train = 0.802 (0.045) / test = 0.810\n",
            "N DecisionTreeClassifier: train = 0.802 (0.041) / test = 0.793\n",
            "N GaussianNB: train = 0.715 (0.039) / test = 0.749\n",
            "N LinearSVC: train = 0.782 (0.036) / test = 0.771\n",
            "N SVC: train = 0.823 (0.053) / test = 0.799\n",
            "N MLPClassifier: train = 0.799 (0.044) / test = 0.760\n",
            "N RandomForestClassifier: train = 0.787 (0.052) / test = 0.827\n",
            "N BaggingClassifier: train = 0.791 (0.044) / test = 0.821\n",
            "N AdaBoostClassifier: train = 0.786 (0.054) / test = 0.771\n",
            "N ExtraTreesClassifier: train = 0.798 (0.051) / test = 0.810\n",
            "N GradientBoostingClassifier: train = 0.803 (0.039) / test = 0.799\n",
            "N HistGradientBoostingClassifier: train = 0.794 (0.045) / test = 0.832\n",
            "N XGBClassifier: train = 0.805 (0.046) / test = 0.816\n",
            "N LGBMClassifier: train = 0.795 (0.040) / test = 0.827\n"
          ]
        }
      ]
    },
    {
      "cell_type": "code",
      "source": [
        "show_results('Сравнение результатов выполнения алгоритмов на норм. данных')"
      ],
      "metadata": {
        "colab": {
          "base_uri": "https://localhost:8080/",
          "height": 447
        },
        "id": "ySq9Mj9yIzT1",
        "outputId": "178d9f86-1f80-461d-da55-af06851843eb"
      },
      "execution_count": null,
      "outputs": [
        {
          "output_type": "display_data",
          "data": {
            "text/plain": [
              "<Figure size 432x288 with 1 Axes>"
            ],
            "image/png": "[encoded data removed]"
          },
          "metadata": {
            "needs_background": "light"
          }
        }
      ]
    },
    {
      "cell_type": "markdown",
      "source": [
        "MinMaxScaler"
      ],
      "metadata": {
        "id": "jqKoDrOzJSdN"
      }
    },
    {
      "cell_type": "code",
      "source": [
        "pipelines = []"
      ],
      "metadata": {
        "id": "H0gQ9zNzD41k"
      },
      "execution_count": null,
      "outputs": []
    },
    {
      "cell_type": "code",
      "source": [
        "for model in models:\n",
        "  name = 'MinMax ' + model.__class__.__name__\n",
        "  pipelines.append((name, Pipeline([('MinMaxScaler', MinMaxScaler()), \n",
        "                                    (model.__class__.__name__, model)])))"
      ],
      "metadata": {
        "id": "7v_MpBGqJXVd"
      },
      "execution_count": null,
      "outputs": []
    },
    {
      "cell_type": "code",
      "source": [
        "scores = []\n",
        "names = []\n",
        "results = []\n",
        "predictions = []\n",
        "msgs = []"
      ],
      "metadata": {
        "id": "BZDWj2xHJwsu"
      },
      "execution_count": null,
      "outputs": []
    },
    {
      "cell_type": "code",
      "source": [
        "train_models(pipelines)"
      ],
      "metadata": {
        "colab": {
          "base_uri": "https://localhost:8080/"
        },
        "id": "WyT-NfQwJg28",
        "outputId": "58a0effc-de22-4852-a60d-5cbfe2273fb1"
      },
      "execution_count": null,
      "outputs": [
        {
          "output_type": "stream",
          "name": "stdout",
          "text": [
            "MinMax LogisticRegression: train = 0.791 (0.041) / test = 0.782\n",
            "MinMax LinearDiscriminantAnalysis: train = 0.792 (0.043) / test = 0.788\n",
            "MinMax KNeighborsClassifier: train = 0.792 (0.046) / test = 0.793\n",
            "MinMax DecisionTreeClassifier: train = 0.796 (0.046) / test = 0.788\n",
            "MinMax GaussianNB: train = 0.761 (0.040) / test = 0.771\n",
            "MinMax LinearSVC: train = 0.794 (0.040) / test = 0.799\n",
            "MinMax SVC: train = 0.805 (0.029) / test = 0.793\n",
            "MinMax MLPClassifier: train = 0.809 (0.039) / test = 0.804\n",
            "MinMax RandomForestClassifier: train = 0.795 (0.056) / test = 0.810\n",
            "MinMax BaggingClassifier: train = 0.794 (0.052) / test = 0.832\n",
            "MinMax AdaBoostClassifier: train = 0.810 (0.047) / test = 0.782\n",
            "MinMax ExtraTreesClassifier: train = 0.799 (0.048) / test = 0.799\n",
            "MinMax GradientBoostingClassifier: train = 0.826 (0.043) / test = 0.810\n",
            "MinMax HistGradientBoostingClassifier: train = 0.813 (0.057) / test = 0.832\n",
            "MinMax XGBClassifier: train = 0.827 (0.041) / test = 0.821\n",
            "MinMax LGBMClassifier: train = 0.812 (0.056) / test = 0.832\n"
          ]
        }
      ]
    },
    {
      "cell_type": "code",
      "source": [
        "show_results('Сравнение результатов выполнения алгоритмов на масштаб. данных')"
      ],
      "metadata": {
        "colab": {
          "base_uri": "https://localhost:8080/",
          "height": 477
        },
        "id": "gEdn0WJPJj3k",
        "outputId": "6dd19f90-2242-4141-fbd3-e35c1b5989fd"
      },
      "execution_count": null,
      "outputs": [
        {
          "output_type": "display_data",
          "data": {
            "text/plain": [
              "<Figure size 432x288 with 1 Axes>"
            ],
            "image/png": "[encoded data removed]"
          },
          "metadata": {
            "needs_background": "light"
          }
        }
      ]
    },
    {
      "cell_type": "code",
      "source": [
        ""
      ],
      "metadata": {
        "id": "mCampIhXJ0V6"
      },
      "execution_count": null,
      "outputs": []
    }
  ]
}