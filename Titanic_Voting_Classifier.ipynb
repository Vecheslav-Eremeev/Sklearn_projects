{
  "nbformat": 4,
  "nbformat_minor": 0,
  "metadata": {
    "colab": {
      "name": "Titanic Voting Classifier",
      "provenance": [],
      "collapsed_sections": [],
      "authorship_tag": "ABX9TyOu9ACxhsG/HhhnkOIj2sRO",
      "include_colab_link": true
    },
    "kernelspec": {
      "name": "python3",
      "display_name": "Python 3"
    },
    "language_info": {
      "name": "python"
    }
  },
  "cells": [
    {
      "cell_type": "markdown",
      "metadata": {
        "id": "view-in-github",
        "colab_type": "text"
      },
      "source": [
        "<a href=\"https://colab.research.google.com/github/Vecheslav-Eremeev/sklearn_projects/blob/main/Titanic_Voting_Classifier.ipynb\" target=\"_parent\"><img src=\"https://colab.research.google.com/assets/colab-badge.svg\" alt=\"Open In Colab\"/></a>"
      ]
    },
    {
      "cell_type": "markdown",
      "source": [
        "Imports"
      ],
      "metadata": {
        "id": "QmkROE4lDScF"
      }
    },
    {
      "cell_type": "code",
      "execution_count": null,
      "metadata": {
        "id": "_W3kHlctzypb"
      },
      "outputs": [],
      "source": [
        "import warnings\n",
        "warnings.filterwarnings('ignore')"
      ]
    },
    {
      "cell_type": "code",
      "source": [
        "import matplotlib.pyplot as plt\n",
        "import seaborn as sns\n",
        "import pandas as pd\n",
        "\n",
        "from sklearn.linear_model import LogisticRegression\n",
        "from sklearn.discriminant_analysis import LinearDiscriminantAnalysis\n",
        "from sklearn.neighbors import KNeighborsClassifier\n",
        "from sklearn.tree import DecisionTreeClassifier\n",
        "from sklearn.naive_bayes import GaussianNB\n",
        "from sklearn.svm import LinearSVC, SVC\n",
        "from sklearn.neural_network import MLPClassifier\n",
        "from sklearn.ensemble import RandomForestClassifier, BaggingClassifier, AdaBoostClassifier\n",
        "from sklearn.ensemble import ExtraTreesClassifier, GradientBoostingClassifier, HistGradientBoostingClassifier\n",
        "from sklearn.ensemble import VotingClassifier\n",
        "\n",
        "from xgboost import XGBClassifier\n",
        "from lightgbm import LGBMClassifier\n",
        "\n",
        "from sklearn.model_selection import train_test_split\n",
        "from sklearn.inspection import permutation_importance\n",
        "from sklearn.model_selection import KFold\n",
        "from sklearn.model_selection import cross_val_score\n",
        "from sklearn.pipeline import Pipeline\n",
        "from sklearn.preprocessing import StandardScaler\n",
        "from sklearn.preprocessing import MinMaxScaler\n",
        "from sklearn.preprocessing import Normalizer"
      ],
      "metadata": {
        "id": "d-kAxv9i0EJd"
      },
      "execution_count": null,
      "outputs": []
    },
    {
      "cell_type": "markdown",
      "source": [
        "Load Data"
      ],
      "metadata": {
        "id": "oJP7dMIEDUtM"
      }
    },
    {
      "cell_type": "code",
      "source": [
        "data = sns.load_dataset('titanic')"
      ],
      "metadata": {
        "id": "OLGYYShd0tmb"
      },
      "execution_count": null,
      "outputs": []
    },
    {
      "cell_type": "markdown",
      "source": [
        "Data preparation"
      ],
      "metadata": {
        "id": "TycA22cvDkBM"
      }
    },
    {
      "cell_type": "code",
      "source": [
        "drop_keys = 'survived class who adult_male deck embark_town alive'.split()"
      ],
      "metadata": {
        "id": "yVKM5aOw0xc8"
      },
      "execution_count": null,
      "outputs": []
    },
    {
      "cell_type": "code",
      "source": [
        "X = data.drop(drop_keys, axis=1)\n",
        "y = data.survived"
      ],
      "metadata": {
        "id": "lolQ7EO-02e9"
      },
      "execution_count": null,
      "outputs": []
    },
    {
      "cell_type": "code",
      "source": [
        "X.embarked = X.embarked.fillna(X.embarked.mode()[0])\n",
        "X.age = X.age.fillna(X.age.mean())\n",
        "X.alone = X.alone.astype(int)\n",
        "X['family'] = X.sibsp + X.parch\n",
        "X.age = pd.cut(X.age, bins=8, labels=False)\n",
        "X.fare = pd.qcut(X.fare, 4, labels=False)\n",
        "X = pd.get_dummies(X, drop_first=True)\n",
        "X.sample(5)"
      ],
      "metadata": {
        "colab": {
          "base_uri": "https://localhost:8080/",
          "height": 206
        },
        "id": "tIi76bXR0567",
        "outputId": "f4c0a9d2-fd4d-4c30-b650-2011e2825fb2"
      },
      "execution_count": null,
      "outputs": [
        {
          "output_type": "execute_result",
          "data": {
            "text/plain": [
              "     pclass  age  sibsp  parch  fare  alone  family  sex_male  embarked_Q  \\\n",
              "74        3    3      0      0     3      1       0         1           0   \n",
              "550       1    1      0      2     3      0       2         1           0   \n",
              "746       3    1      1      1     2      0       2         1           0   \n",
              "604       1    3      0      0     2      1       0         1           0   \n",
              "878       3    2      0      0     0      1       0         1           0   \n",
              "\n",
              "     embarked_S  \n",
              "74            1  \n",
              "550           0  \n",
              "746           1  \n",
              "604           0  \n",
              "878           1  "
            ],
            "text/html": [
              "\n",
              "  <div id=\"df-9ebe54ff-c360-4431-8a28-44a9f212837a\">\n",
              "    <div class=\"colab-df-container\">\n",
              "      <div>\n",
              "<style scoped>\n",
              "    .dataframe tbody tr th:only-of-type {\n",
              "        vertical-align: middle;\n",
              "    }\n",
              "\n",
              "    .dataframe tbody tr th {\n",
              "        vertical-align: top;\n",
              "    }\n",
              "\n",
              "    .dataframe thead th {\n",
              "        text-align: right;\n",
              "    }\n",
              "</style>\n",
              "<table border=\"1\" class=\"dataframe\">\n",
              "  <thead>\n",
              "    <tr style=\"text-align: right;\">\n",
              "      <th></th>\n",
              "      <th>pclass</th>\n",
              "      <th>age</th>\n",
              "      <th>sibsp</th>\n",
              "      <th>parch</th>\n",
              "      <th>fare</th>\n",
              "      <th>alone</th>\n",
              "      <th>family</th>\n",
              "      <th>sex_male</th>\n",
              "      <th>embarked_Q</th>\n",
              "      <th>embarked_S</th>\n",
              "    </tr>\n",
              "  </thead>\n",
              "  <tbody>\n",
              "    <tr>\n",
              "      <th>74</th>\n",
              "      <td>3</td>\n",
              "      <td>3</td>\n",
              "      <td>0</td>\n",
              "      <td>0</td>\n",
              "      <td>3</td>\n",
              "      <td>1</td>\n",
              "      <td>0</td>\n",
              "      <td>1</td>\n",
              "      <td>0</td>\n",
              "      <td>1</td>\n",
              "    </tr>\n",
              "    <tr>\n",
              "      <th>550</th>\n",
              "      <td>1</td>\n",
              "      <td>1</td>\n",
              "      <td>0</td>\n",
              "      <td>2</td>\n",
              "      <td>3</td>\n",
              "      <td>0</td>\n",
              "      <td>2</td>\n",
              "      <td>1</td>\n",
              "      <td>0</td>\n",
              "      <td>0</td>\n",
              "    </tr>\n",
              "    <tr>\n",
              "      <th>746</th>\n",
              "      <td>3</td>\n",
              "      <td>1</td>\n",
              "      <td>1</td>\n",
              "      <td>1</td>\n",
              "      <td>2</td>\n",
              "      <td>0</td>\n",
              "      <td>2</td>\n",
              "      <td>1</td>\n",
              "      <td>0</td>\n",
              "      <td>1</td>\n",
              "    </tr>\n",
              "    <tr>\n",
              "      <th>604</th>\n",
              "      <td>1</td>\n",
              "      <td>3</td>\n",
              "      <td>0</td>\n",
              "      <td>0</td>\n",
              "      <td>2</td>\n",
              "      <td>1</td>\n",
              "      <td>0</td>\n",
              "      <td>1</td>\n",
              "      <td>0</td>\n",
              "      <td>0</td>\n",
              "    </tr>\n",
              "    <tr>\n",
              "      <th>878</th>\n",
              "      <td>3</td>\n",
              "      <td>2</td>\n",
              "      <td>0</td>\n",
              "      <td>0</td>\n",
              "      <td>0</td>\n",
              "      <td>1</td>\n",
              "      <td>0</td>\n",
              "      <td>1</td>\n",
              "      <td>0</td>\n",
              "      <td>1</td>\n",
              "    </tr>\n",
              "  </tbody>\n",
              "</table>\n",
              "</div>\n",
              "      <button class=\"colab-df-convert\" onclick=\"convertToInteractive('df-9ebe54ff-c360-4431-8a28-44a9f212837a')\"\n",
              "              title=\"Convert this dataframe to an interactive table.\"\n",
              "              style=\"display:none;\">\n",
              "        \n",
              "  <svg xmlns=\"http://www.w3.org/2000/svg\" height=\"24px\"viewBox=\"0 0 24 24\"\n",
              "       width=\"24px\">\n",
              "    <path d=\"M0 0h24v24H0V0z\" fill=\"none\"/>\n",
              "    <path d=\"M18.56 5.44l.94 2.06.94-2.06 2.06-.94-2.06-.94-.94-2.06-.94 2.06-2.06.94zm-11 1L8.5 8.5l.94-2.06 2.06-.94-2.06-.94L8.5 2.5l-.94 2.06-2.06.94zm10 10l.94 2.06.94-2.06 2.06-.94-2.06-.94-.94-2.06-.94 2.06-2.06.94z\"/><path d=\"M17.41 7.96l-1.37-1.37c-.4-.4-.92-.59-1.43-.59-.52 0-1.04.2-1.43.59L10.3 9.45l-7.72 7.72c-.78.78-.78 2.05 0 2.83L4 21.41c.39.39.9.59 1.41.59.51 0 1.02-.2 1.41-.59l7.78-7.78 2.81-2.81c.8-.78.8-2.07 0-2.86zM5.41 20L4 18.59l7.72-7.72 1.47 1.35L5.41 20z\"/>\n",
              "  </svg>\n",
              "      </button>\n",
              "      \n",
              "  <style>\n",
              "    .colab-df-container {\n",
              "      display:flex;\n",
              "      flex-wrap:wrap;\n",
              "      gap: 12px;\n",
              "    }\n",
              "\n",
              "    .colab-df-convert {\n",
              "      background-color: #E8F0FE;\n",
              "      border: none;\n",
              "      border-radius: 50%;\n",
              "      cursor: pointer;\n",
              "      display: none;\n",
              "      fill: #1967D2;\n",
              "      height: 32px;\n",
              "      padding: 0 0 0 0;\n",
              "      width: 32px;\n",
              "    }\n",
              "\n",
              "    .colab-df-convert:hover {\n",
              "      background-color: #E2EBFA;\n",
              "      box-shadow: 0px 1px 2px rgba(60, 64, 67, 0.3), 0px 1px 3px 1px rgba(60, 64, 67, 0.15);\n",
              "      fill: #174EA6;\n",
              "    }\n",
              "\n",
              "    [theme=dark] .colab-df-convert {\n",
              "      background-color: #3B4455;\n",
              "      fill: #D2E3FC;\n",
              "    }\n",
              "\n",
              "    [theme=dark] .colab-df-convert:hover {\n",
              "      background-color: #434B5C;\n",
              "      box-shadow: 0px 1px 3px 1px rgba(0, 0, 0, 0.15);\n",
              "      filter: drop-shadow(0px 1px 2px rgba(0, 0, 0, 0.3));\n",
              "      fill: #FFFFFF;\n",
              "    }\n",
              "  </style>\n",
              "\n",
              "      <script>\n",
              "        const buttonEl =\n",
              "          document.querySelector('#df-9ebe54ff-c360-4431-8a28-44a9f212837a button.colab-df-convert');\n",
              "        buttonEl.style.display =\n",
              "          google.colab.kernel.accessAllowed ? 'block' : 'none';\n",
              "\n",
              "        async function convertToInteractive(key) {\n",
              "          const element = document.querySelector('#df-9ebe54ff-c360-4431-8a28-44a9f212837a');\n",
              "          const dataTable =\n",
              "            await google.colab.kernel.invokeFunction('convertToInteractive',\n",
              "                                                     [key], {});\n",
              "          if (!dataTable) return;\n",
              "\n",
              "          const docLinkHtml = 'Like what you see? Visit the ' +\n",
              "            '<a target=\"_blank\" href=https://colab.research.google.com/notebooks/data_table.ipynb>data table notebook</a>'\n",
              "            + ' to learn more about interactive tables.';\n",
              "          element.innerHTML = '';\n",
              "          dataTable['output_type'] = 'display_data';\n",
              "          await google.colab.output.renderOutput(dataTable, element);\n",
              "          const docLink = document.createElement('div');\n",
              "          docLink.innerHTML = docLinkHtml;\n",
              "          element.appendChild(docLink);\n",
              "        }\n",
              "      </script>\n",
              "    </div>\n",
              "  </div>\n",
              "  "
            ]
          },
          "metadata": {},
          "execution_count": 7
        }
      ]
    },
    {
      "cell_type": "code",
      "source": [
        "test_size = 0.2\n",
        "random_seed = 42\n",
        "num_folds = 10\n",
        "n_estimators = 100\n",
        "scoring = 'accuracy'"
      ],
      "metadata": {
        "id": "WdhppjhP097z"
      },
      "execution_count": null,
      "outputs": []
    },
    {
      "cell_type": "code",
      "source": [
        "X_train, X_test, y_train, y_test = train_test_split(X, y, test_size=test_size, random_state=random_seed)"
      ],
      "metadata": {
        "id": "NNhOzlpj1gw6"
      },
      "execution_count": null,
      "outputs": []
    },
    {
      "cell_type": "markdown",
      "source": [
        "Train Model"
      ],
      "metadata": {
        "id": "SrnDpTJlDqM7"
      }
    },
    {
      "cell_type": "code",
      "source": [
        "models = [\n",
        "          LogisticRegression(),\n",
        "          LinearDiscriminantAnalysis(),\n",
        "          KNeighborsClassifier(),\n",
        "          DecisionTreeClassifier(),\n",
        "          GaussianNB(),\n",
        "          LinearSVC(),\n",
        "          SVC(),\n",
        "          MLPClassifier(),\n",
        "          RandomForestClassifier(n_estimators=n_estimators),\n",
        "          BaggingClassifier(n_estimators=n_estimators),\n",
        "          AdaBoostClassifier(n_estimators=n_estimators),\n",
        "          ExtraTreesClassifier(n_estimators=n_estimators),\n",
        "          GradientBoostingClassifier(n_estimators=n_estimators),\n",
        "          HistGradientBoostingClassifier(),\n",
        "          XGBClassifier(silent=True),\n",
        "          LGBMClassifier(silent=True)\n",
        "]"
      ],
      "metadata": {
        "id": "tw2-ZLGY1j5y"
      },
      "execution_count": null,
      "outputs": []
    },
    {
      "cell_type": "code",
      "source": [
        "estimators = []\n",
        "for model in models:\n",
        "  estimators.append((model.__class__.__name__, model))"
      ],
      "metadata": {
        "id": "7kwEZMnI1wHL"
      },
      "execution_count": null,
      "outputs": []
    },
    {
      "cell_type": "code",
      "source": [
        "def train_model(pipelines):\n",
        "  model_voting = VotingClassifier(estimators=pipelines, voting='hard')\n",
        "  kfold = KFold(n_splits=num_folds, random_state=random_seed, shuffle=True)\n",
        "  cv_results = cross_val_score(model_voting, X_train, y_train, cv=kfold)\n",
        "  print('CV results:', cv_results)\n",
        "  print('Mean:', cv_results.mean())"
      ],
      "metadata": {
        "id": "ZNvpmPLEAAVf"
      },
      "execution_count": null,
      "outputs": []
    },
    {
      "cell_type": "code",
      "source": [
        "train_model(estimators)"
      ],
      "metadata": {
        "colab": {
          "base_uri": "https://localhost:8080/"
        },
        "id": "_1wCBIh2BjrT",
        "outputId": "f774defc-67f8-494f-d93e-9f5442cde038"
      },
      "execution_count": null,
      "outputs": [
        {
          "output_type": "stream",
          "name": "stdout",
          "text": [
            "CV results: [0.875      0.77777778 0.83098592 0.71830986 0.78873239 0.8028169\n",
            " 0.87323944 0.83098592 0.81690141 0.91549296]\n",
            "Mean: 0.8230242566510171\n"
          ]
        }
      ]
    },
    {
      "cell_type": "markdown",
      "source": [
        "StandartScaler"
      ],
      "metadata": {
        "id": "xrtOKrUkC5yj"
      }
    },
    {
      "cell_type": "code",
      "source": [
        "pipelines = []\n",
        "for model in models:\n",
        "  name = 'SS ' + model.__class__.__name__\n",
        "  pipelines.append((name, Pipeline([('Scaler', StandardScaler()), \n",
        "                                    (model.__class__.__name__, model)])))"
      ],
      "metadata": {
        "id": "6_vWxU16B0Uj"
      },
      "execution_count": null,
      "outputs": []
    },
    {
      "cell_type": "code",
      "source": [
        "train_model(pipelines)"
      ],
      "metadata": {
        "colab": {
          "base_uri": "https://localhost:8080/"
        },
        "id": "1e1dMhfMB92_",
        "outputId": "76f30ae5-039b-4336-8a5f-a2dcbe065bb0"
      },
      "execution_count": null,
      "outputs": [
        {
          "output_type": "stream",
          "name": "stdout",
          "text": [
            "CV results: [0.875      0.77777778 0.83098592 0.73239437 0.78873239 0.8028169\n",
            " 0.87323944 0.83098592 0.8028169  0.91549296]\n",
            "Mean: 0.8230242566510173\n"
          ]
        }
      ]
    },
    {
      "cell_type": "markdown",
      "source": [
        "Noramalizer"
      ],
      "metadata": {
        "id": "vN3dzZBtC9u2"
      }
    },
    {
      "cell_type": "code",
      "source": [
        "pipelines = []\n",
        "for model in models:\n",
        "  name = 'N ' + model.__class__.__name__\n",
        "  pipelines.append((name, Pipeline([('Normalizer', Normalizer()), \n",
        "                                    (model.__class__.__name__, model)])))"
      ],
      "metadata": {
        "id": "T9xNRvY1CLIq"
      },
      "execution_count": null,
      "outputs": []
    },
    {
      "cell_type": "code",
      "source": [
        "train_model(pipelines)"
      ],
      "metadata": {
        "colab": {
          "base_uri": "https://localhost:8080/"
        },
        "id": "nBSVX3cgCX4r",
        "outputId": "c108cce8-4613-463b-f1ae-10061d1f24de"
      },
      "execution_count": null,
      "outputs": [
        {
          "output_type": "stream",
          "name": "stdout",
          "text": [
            "CV results: [0.83333333 0.76388889 0.83098592 0.74647887 0.74647887 0.78873239\n",
            " 0.87323944 0.81690141 0.78873239 0.87323944]\n",
            "Mean: 0.806201095461659\n"
          ]
        }
      ]
    },
    {
      "cell_type": "markdown",
      "source": [
        "MinMaxScaler\n"
      ],
      "metadata": {
        "id": "qgGAwFnPDAsU"
      }
    },
    {
      "cell_type": "code",
      "source": [
        "pipelines = []\n",
        "for model in models:\n",
        "  name = 'MinMax ' + model.__class__.__name__\n",
        "  pipelines.append((name, Pipeline([('MinMaxScaler', MinMaxScaler()), \n",
        "                                    (model.__class__.__name__, model)])))"
      ],
      "metadata": {
        "id": "3ykWfctVCfbu"
      },
      "execution_count": null,
      "outputs": []
    },
    {
      "cell_type": "code",
      "source": [
        "train_model(pipelines)"
      ],
      "metadata": {
        "colab": {
          "base_uri": "https://localhost:8080/"
        },
        "id": "Uq_VqW4zCpET",
        "outputId": "65de9546-72cc-4a14-93b3-451e8e1a0db1"
      },
      "execution_count": null,
      "outputs": [
        {
          "output_type": "stream",
          "name": "stdout",
          "text": [
            "CV results: [0.86111111 0.77777778 0.83098592 0.70422535 0.77464789 0.8028169\n",
            " 0.87323944 0.83098592 0.81690141 0.88732394]\n",
            "Mean: 0.8160015649452269\n"
          ]
        }
      ]
    },
    {
      "cell_type": "markdown",
      "source": [
        "Permutation importances of each features"
      ],
      "metadata": {
        "id": "3F8rg9S_DIDb"
      }
    },
    {
      "cell_type": "code",
      "source": [
        "model_voting = VotingClassifier(estimators, voting='hard')"
      ],
      "metadata": {
        "id": "fxcLH30JBYnD"
      },
      "execution_count": null,
      "outputs": []
    },
    {
      "cell_type": "code",
      "source": [
        "model_voting.fit(X_train, y_train)\n",
        "model_voting.score(X_test, y_test)"
      ],
      "metadata": {
        "colab": {
          "base_uri": "https://localhost:8080/"
        },
        "id": "HRfiRt383O_7",
        "outputId": "272be7fe-e767-476b-ae47-70577d6d8701"
      },
      "execution_count": null,
      "outputs": [
        {
          "output_type": "execute_result",
          "data": {
            "text/plain": [
              "0.7932960893854749"
            ]
          },
          "metadata": {},
          "execution_count": 18
        }
      ]
    },
    {
      "cell_type": "code",
      "source": [
        "result = permutation_importance(model_voting, X, y, n_repeats=10, n_jobs=-1)"
      ],
      "metadata": {
        "id": "Q_O9NplD3drD"
      },
      "execution_count": null,
      "outputs": []
    },
    {
      "cell_type": "code",
      "source": [
        "feature_names = X.keys()"
      ],
      "metadata": {
        "id": "rxiLgYGk6mV0"
      },
      "execution_count": null,
      "outputs": []
    },
    {
      "cell_type": "code",
      "source": [
        "sorted_idx = result.importances_mean.argsort()\n",
        "plt.boxplot(result.importances[sorted_idx].T, vert=False, labels=feature_names[sorted_idx])\n",
        "plt.title('Permutation importances of each features')\n",
        "plt.ylabel('Features')\n",
        "plt.tight_layout()\n",
        "plt.show()"
      ],
      "metadata": {
        "colab": {
          "base_uri": "https://localhost:8080/",
          "height": 297
        },
        "id": "OfytobQf6W7U",
        "outputId": "1bfe9b60-2f3a-489e-cf35-7f712c5d73f7"
      },
      "execution_count": null,
      "outputs": [
        {
          "output_type": "display_data",
          "data": {
            "text/plain": [
              "<Figure size 432x288 with 1 Axes>"
            ],
            "image/png": "[encoded data removed]"
          },
          "metadata": {
            "needs_background": "light"
          }
        }
      ]
    },
    {
      "cell_type": "code",
      "source": [
        ""
      ],
      "metadata": {
        "id": "-c0RB1oRA3K7"
      },
      "execution_count": null,
      "outputs": []
    }
  ]
}